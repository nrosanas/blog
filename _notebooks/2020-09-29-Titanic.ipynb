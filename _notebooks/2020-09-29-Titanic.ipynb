{
  "nbformat": 4,
  "nbformat_minor": 0,
  "metadata": {
    "environment": {
      "name": "pytorch-gpu.1-4.m54",
      "type": "gcloud",
      "uri": "gcr.io/deeplearning-platform-release/pytorch-gpu.1-4:m54"
    },
    "kernelspec": {
      "display_name": "Python 3",
      "language": "python",
      "name": "python3"
    },
    "language_info": {
      "codemirror_mode": {
        "name": "ipython",
        "version": 3
      },
      "file_extension": ".py",
      "mimetype": "text/x-python",
      "name": "python",
      "nbconvert_exporter": "python",
      "pygments_lexer": "ipython3",
      "version": "3.7.8"
    },
    "colab": {
      "name": "2020-09-29-Titanic.ipynb",
      "provenance": []
    }
  },
  "cells": [
    {
      "cell_type": "markdown",
      "metadata": {
        "id": "Eh5P0Vy9uRpZ"
      },
      "source": [
        "# Titanic \n",
        "\n"
      ]
    },
    {
      "cell_type": "markdown",
      "metadata": {
        "id": "9hnErczJuY1u"
      },
      "source": [
        "In this notebook we will experiment with tabular data and fastai v2 and other machine learning techniques\n"
      ]
    },
    {
      "cell_type": "code",
      "metadata": {
        "id": "fxtwQS_9uRpb"
      },
      "source": [
        "import pandas as pd\n",
        "import numpy as np\n",
        "import matplotlib.pyplot as plt\n",
        "from fastai.tabular.all import *\n",
        "from pathlib import Path\n",
        "import seaborn as sns\n",
        "sns.set_palette('Set1')\n",
        "sns.set_style(\"white\")\n",
        "\n",
        "from sklearn.ensemble import GradientBoostingClassifier\n",
        "from sklearn.model_selection import train_test_split"
      ],
      "execution_count": null,
      "outputs": []
    },
    {
      "cell_type": "code",
      "metadata": {
        "id": "GwkS9mCRuRpi"
      },
      "source": [
        "path = Path('/home/jupyter/kaggle/titanic/')\n",
        "train = pd.read_csv(path/'train.csv')\n",
        "test = pd.read_csv(path/'test.csv')"
      ],
      "execution_count": null,
      "outputs": []
    },
    {
      "cell_type": "markdown",
      "metadata": {
        "id": "GhV6nKDquRpr"
      },
      "source": [
        "Let's take a look of the data composing the dataset"
      ]
    },
    {
      "cell_type": "code",
      "metadata": {
        "id": "a5fQYb-WuRpt",
        "outputId": "414e197d-b499-4636-a941-b1fe72940b1d"
      },
      "source": [
        "train.head()"
      ],
      "execution_count": null,
      "outputs": [
        {
          "output_type": "execute_result",
          "data": {
            "text/html": [
              "<div>\n",
              "<style scoped>\n",
              "    .dataframe tbody tr th:only-of-type {\n",
              "        vertical-align: middle;\n",
              "    }\n",
              "\n",
              "    .dataframe tbody tr th {\n",
              "        vertical-align: top;\n",
              "    }\n",
              "\n",
              "    .dataframe thead th {\n",
              "        text-align: right;\n",
              "    }\n",
              "</style>\n",
              "<table border=\"1\" class=\"dataframe\">\n",
              "  <thead>\n",
              "    <tr style=\"text-align: right;\">\n",
              "      <th></th>\n",
              "      <th>PassengerId</th>\n",
              "      <th>Survived</th>\n",
              "      <th>Pclass</th>\n",
              "      <th>Name</th>\n",
              "      <th>Sex</th>\n",
              "      <th>Age</th>\n",
              "      <th>SibSp</th>\n",
              "      <th>Parch</th>\n",
              "      <th>Ticket</th>\n",
              "      <th>Fare</th>\n",
              "      <th>Cabin</th>\n",
              "      <th>Embarked</th>\n",
              "    </tr>\n",
              "  </thead>\n",
              "  <tbody>\n",
              "    <tr>\n",
              "      <th>0</th>\n",
              "      <td>1</td>\n",
              "      <td>0</td>\n",
              "      <td>3</td>\n",
              "      <td>Braund, Mr. Owen Harris</td>\n",
              "      <td>male</td>\n",
              "      <td>22.0</td>\n",
              "      <td>1</td>\n",
              "      <td>0</td>\n",
              "      <td>A/5 21171</td>\n",
              "      <td>7.2500</td>\n",
              "      <td>NaN</td>\n",
              "      <td>S</td>\n",
              "    </tr>\n",
              "    <tr>\n",
              "      <th>1</th>\n",
              "      <td>2</td>\n",
              "      <td>1</td>\n",
              "      <td>1</td>\n",
              "      <td>Cumings, Mrs. John Bradley (Florence Briggs Thayer)</td>\n",
              "      <td>female</td>\n",
              "      <td>38.0</td>\n",
              "      <td>1</td>\n",
              "      <td>0</td>\n",
              "      <td>PC 17599</td>\n",
              "      <td>71.2833</td>\n",
              "      <td>C85</td>\n",
              "      <td>C</td>\n",
              "    </tr>\n",
              "    <tr>\n",
              "      <th>2</th>\n",
              "      <td>3</td>\n",
              "      <td>1</td>\n",
              "      <td>3</td>\n",
              "      <td>Heikkinen, Miss. Laina</td>\n",
              "      <td>female</td>\n",
              "      <td>26.0</td>\n",
              "      <td>0</td>\n",
              "      <td>0</td>\n",
              "      <td>STON/O2. 3101282</td>\n",
              "      <td>7.9250</td>\n",
              "      <td>NaN</td>\n",
              "      <td>S</td>\n",
              "    </tr>\n",
              "    <tr>\n",
              "      <th>3</th>\n",
              "      <td>4</td>\n",
              "      <td>1</td>\n",
              "      <td>1</td>\n",
              "      <td>Futrelle, Mrs. Jacques Heath (Lily May Peel)</td>\n",
              "      <td>female</td>\n",
              "      <td>35.0</td>\n",
              "      <td>1</td>\n",
              "      <td>0</td>\n",
              "      <td>113803</td>\n",
              "      <td>53.1000</td>\n",
              "      <td>C123</td>\n",
              "      <td>S</td>\n",
              "    </tr>\n",
              "    <tr>\n",
              "      <th>4</th>\n",
              "      <td>5</td>\n",
              "      <td>0</td>\n",
              "      <td>3</td>\n",
              "      <td>Allen, Mr. William Henry</td>\n",
              "      <td>male</td>\n",
              "      <td>35.0</td>\n",
              "      <td>0</td>\n",
              "      <td>0</td>\n",
              "      <td>373450</td>\n",
              "      <td>8.0500</td>\n",
              "      <td>NaN</td>\n",
              "      <td>S</td>\n",
              "    </tr>\n",
              "  </tbody>\n",
              "</table>\n",
              "</div>"
            ],
            "text/plain": [
              "   PassengerId  Survived  Pclass  \\\n",
              "0            1         0       3   \n",
              "1            2         1       1   \n",
              "2            3         1       3   \n",
              "3            4         1       1   \n",
              "4            5         0       3   \n",
              "\n",
              "                                                  Name     Sex   Age  SibSp  \\\n",
              "0                              Braund, Mr. Owen Harris    male  22.0      1   \n",
              "1  Cumings, Mrs. John Bradley (Florence Briggs Thayer)  female  38.0      1   \n",
              "2                               Heikkinen, Miss. Laina  female  26.0      0   \n",
              "3         Futrelle, Mrs. Jacques Heath (Lily May Peel)  female  35.0      1   \n",
              "4                             Allen, Mr. William Henry    male  35.0      0   \n",
              "\n",
              "   Parch            Ticket     Fare Cabin Embarked  \n",
              "0      0         A/5 21171   7.2500   NaN        S  \n",
              "1      0          PC 17599  71.2833   C85        C  \n",
              "2      0  STON/O2. 3101282   7.9250   NaN        S  \n",
              "3      0            113803  53.1000  C123        S  \n",
              "4      0            373450   8.0500   NaN        S  "
            ]
          },
          "metadata": {
            "tags": []
          },
          "execution_count": 3
        }
      ]
    },
    {
      "cell_type": "markdown",
      "metadata": {
        "id": "EeORGba7uRp1"
      },
      "source": [
        "Notes about the columns:\n",
        "\n",
        "| Column name | Description |\n",
        "|---|---|\n",
        "| PassangerID | Unique identifier for each passanger | \n",
        "|  Survived |  1 survived, 0 did not survive | \n",
        "|  Pclass | From the problem description:  A proxy for socio-economic status (SES) 1 = Upper ,2= Middle, 3 = Lower |\n",
        "|  Name |  Name of the passanger | \n",
        "|  Sex |  Sex of passanger | \n",
        "|  Age |  Age of the passanger, if younger than 1 it will be fractionary | \n",
        "| SibSp |  Number of brothers, sisters, stepbrother, stepsister and wife or husband of the given passanger embarked | \n",
        "| Parch |  Number of parents or children embarked of the passanger | \n",
        "|  Ticket |  Ticket number | \n",
        "|  Cabin |  Cabin number | \n",
        "|  Embarked | Port of embarkation -> C = Cherbourg, Q = Queenstown, S = Southampton | "
      ]
    },
    {
      "cell_type": "markdown",
      "metadata": {
        "id": "eCHGvKgruRp2"
      },
      "source": [
        "Before preparing the data for our model, let's take a look how each column influences survivality"
      ]
    },
    {
      "cell_type": "code",
      "metadata": {
        "id": "L9bsPSrtuRp3",
        "outputId": "caf0d79c-94c2-4a02-ea61-255e6d881573"
      },
      "source": [
        "\n",
        "sns.displot(data=train, x='Sex', hue='Survived', multiple = 'stack',alpha=0.6)"
      ],
      "execution_count": null,
      "outputs": [
        {
          "output_type": "execute_result",
          "data": {
            "text/plain": [
              "<seaborn.axisgrid.FacetGrid at 0x7ffa963e6790>"
            ]
          },
          "metadata": {
            "tags": []
          },
          "execution_count": 4
        },
        {
          "output_type": "display_data",
          "data": {
            "image/png": "[encoded data removed]",
            "text/plain": [
              "<Figure size 411.875x360 with 1 Axes>"
            ]
          },
          "metadata": {
            "tags": []
          }
        }
      ]
    },
    {
      "cell_type": "markdown",
      "metadata": {
        "id": "YLyNLDjJuRp9"
      },
      "source": [
        "There is almost double male than female passengers but there is much more female survivors. Next let's take a look how the passengers where distributed among the classes and age."
      ]
    },
    {
      "cell_type": "code",
      "metadata": {
        "id": "bh8ti4d5uRp-",
        "outputId": "7ae96b94-7551-4edf-bf70-dacd32b004dc"
      },
      "source": [
        "g = sns.FacetGrid(train, col='Pclass',row='Sex',hue='Survived', )\n",
        "g.map(sns.histplot,'Age', alpha=0.6)\n",
        "g.add_legend()"
      ],
      "execution_count": null,
      "outputs": [
        {
          "output_type": "execute_result",
          "data": {
            "text/plain": [
              "<seaborn.axisgrid.FacetGrid at 0x7ffa352749d0>"
            ]
          },
          "metadata": {
            "tags": []
          },
          "execution_count": 5
        },
        {
          "output_type": "display_data",
          "data": {
            "image/png": "[encoded data removed]",
            "text/plain": [
              "<Figure size 699.875x432 with 6 Axes>"
            ]
          },
          "metadata": {
            "tags": []
          }
        }
      ]
    },
    {
      "cell_type": "markdown",
      "metadata": {
        "id": "yx1y-q2muRqD"
      },
      "source": [
        "1st and 2nd class female passengers where much more likely to survive than male passengers from 2nd and 3rd class."
      ]
    },
    {
      "cell_type": "code",
      "metadata": {
        "id": "sdRwe_rWuRqF",
        "outputId": "28960f16-f5bc-4bdc-ddd8-29228649e30b"
      },
      "source": [
        "train['Family']=(train['SibSp']+train['Parch']).astype(int)\n",
        "order=[]\n",
        "for i in range(10):\n",
        "    order.append(str(i))\n",
        "a=sns.countplot(data=train, x='Family', hue='Survived',dodge=True, alpha=0.6)"
      ],
      "execution_count": null,
      "outputs": [
        {
          "output_type": "display_data",
          "data": {
            "image/png": "[encoded data removed]",
            "text/plain": [
              "<Figure size 432x288 with 1 Axes>"
            ]
          },
          "metadata": {
            "tags": []
          }
        }
      ]
    },
    {
      "cell_type": "markdown",
      "metadata": {
        "id": "KzlP7mLguRqK"
      },
      "source": [
        "There are many passengers travelling alone and they are much less likely to survive. Then people who had between 2 and 3 relatives was more likely to survive than the rest of passengers."
      ]
    },
    {
      "cell_type": "code",
      "metadata": {
        "id": "53ysLh_cuRqK",
        "outputId": "1af9e64e-641a-4c61-c23f-010df9cb85e4"
      },
      "source": [
        "g = sns.FacetGrid(train, col='Family',row='Sex',hue='Survived', )\n",
        "g.map(sns.histplot,'Age', alpha=0.6)\n",
        "g.add_legend()"
      ],
      "execution_count": null,
      "outputs": [
        {
          "output_type": "execute_result",
          "data": {
            "text/plain": [
              "<seaborn.axisgrid.FacetGrid at 0x7ffa352a8590>"
            ]
          },
          "metadata": {
            "tags": []
          },
          "execution_count": 7
        },
        {
          "output_type": "display_data",
          "data": {
            "image/png": "[encoded data removed]",
            "text/plain": [
              "<Figure size 1995.88x432 with 18 Axes>"
            ]
          },
          "metadata": {
            "tags": []
          }
        }
      ]
    },
    {
      "cell_type": "code",
      "metadata": {
        "id": "OBCeLUDEuRqP",
        "outputId": "d455cc45-06af-472a-8d98-d7ce2f006cfc"
      },
      "source": [
        "plt.figure(figsize=(10,10))\n",
        "a=sns.stripplot(data=train, x='Family', y='Age', hue='Survived', alpha=0.5)"
      ],
      "execution_count": null,
      "outputs": [
        {
          "output_type": "display_data",
          "data": {
            "image/png": "[encoded data removed]",
            "text/plain": [
              "<Figure size 720x720 with 1 Axes>"
            ]
          },
          "metadata": {
            "tags": []
          }
        }
      ]
    },
    {
      "cell_type": "markdown",
      "metadata": {
        "id": "OBcq0QcGuRqS"
      },
      "source": [
        "There are some columns not very useful predicting the survival rate of a given passanger, these are: 'PassengerId', 'Name', 'Ticket' and 'Fare'. We will remove this columns. "
      ]
    },
    {
      "cell_type": "code",
      "metadata": {
        "id": "PCPBis0AuRqT"
      },
      "source": [
        "def remove_cols(df, cols, debug=False):\n",
        "    df.drop(columns = cols, inplace=True);\n",
        "    if debug: print('columns_droped')\n",
        "    return(df)"
      ],
      "execution_count": null,
      "outputs": []
    },
    {
      "cell_type": "code",
      "metadata": {
        "id": "RiOH4WvYuRqX",
        "outputId": "637592a5-a84c-4650-c89a-c1aef4714e14"
      },
      "source": [
        "cols = ['PassengerId', 'Ticket', 'Fare','Name']\n",
        "print(f'This features:{cols} will be removed from the data set')"
      ],
      "execution_count": null,
      "outputs": [
        {
          "output_type": "stream",
          "text": [
            "This features:['PassengerId', 'Ticket', 'Fare', 'Name'] will be removed from the data set\n"
          ],
          "name": "stdout"
        }
      ]
    },
    {
      "cell_type": "markdown",
      "metadata": {
        "id": "AptA4CwluRqd"
      },
      "source": [
        "We can check the unique values the dataset takes for each column"
      ]
    },
    {
      "cell_type": "code",
      "metadata": {
        "id": "Tyv9x5UxuRqd",
        "outputId": "14268232-42a2-40a3-8aaa-33820560cdc7"
      },
      "source": [
        "print('Number of unique classes in each feature: ')\n",
        "print(train.nunique())\n"
      ],
      "execution_count": null,
      "outputs": [
        {
          "output_type": "stream",
          "text": [
            "Number of unique classes in each feature: \n",
            "PassengerId    891\n",
            "Survived         2\n",
            "Pclass           3\n",
            "Name           891\n",
            "Sex              2\n",
            "Age             88\n",
            "SibSp            7\n",
            "Parch            7\n",
            "Ticket         681\n",
            "Fare           248\n",
            "Cabin          147\n",
            "Embarked         3\n",
            "Family           9\n",
            "dtype: int64\n"
          ],
          "name": "stdout"
        }
      ]
    },
    {
      "cell_type": "markdown",
      "metadata": {
        "id": "7m3jl8kauRqi"
      },
      "source": [
        "We can take a look of the missing values in the columns, we can se there is missing data in 'Age' and 'Cabin'. "
      ]
    },
    {
      "cell_type": "code",
      "metadata": {
        "id": "Qpcc4LwWuRqj",
        "outputId": "e3c491c5-4fed-4814-b7e1-236b812c0d43"
      },
      "source": [
        "print('Number of passengers missing each feature:')\n",
        "train.isna().sum()"
      ],
      "execution_count": null,
      "outputs": [
        {
          "output_type": "stream",
          "text": [
            "Number of passengers missing each feature:\n"
          ],
          "name": "stdout"
        },
        {
          "output_type": "execute_result",
          "data": {
            "text/plain": [
              "PassengerId      0\n",
              "Survived         0\n",
              "Pclass           0\n",
              "Name             0\n",
              "Sex              0\n",
              "Age            177\n",
              "SibSp            0\n",
              "Parch            0\n",
              "Ticket           0\n",
              "Fare             0\n",
              "Cabin          687\n",
              "Embarked         2\n",
              "Family           0\n",
              "dtype: int64"
            ]
          },
          "metadata": {
            "tags": []
          },
          "execution_count": 12
        }
      ]
    },
    {
      "cell_type": "markdown",
      "metadata": {
        "id": "uKmQKLIIuRqm"
      },
      "source": [
        "We will create a new column indicating is that the data is missing and impute the **mean age of the training set** and fill cabin with the text 'Missing'. \n",
        "Cabin might look as it is not relevant but the letter of leading the number can indicate the deck it was and might be relevant to the survivality. There are also 2 passengers missing where they embarked, this can be very relevant so we will create a new column for missing embarkation port. This might be relevant because it could be very easy to retrieve this information from the survivors. So instead of keeping the whole cabin number, we will just save the cabin letter."
      ]
    },
    {
      "cell_type": "code",
      "metadata": {
        "id": "K423ynGjuRqn"
      },
      "source": [
        "MEAN_AGE = train['Age'].mean()\n",
        "def fill_na(df,debug=False):\n",
        "    df.loc[:,'AgeMissing'] = df['Age'].isna() # New column for missing data\n",
        "    if debug: print('fillna complete: 1/4')\n",
        "    df['Age'].fillna(MEAN_AGE, inplace=True) #filling 'Age' with the mean \n",
        "    if debug: print('fillna complete: 2/4')\n",
        "    df['Cabin'].fillna('Missing', inplace=True)\n",
        "    if debug: print('fillna complete: 3/4')\n",
        "    df['Cabin'] = df['Cabin'].apply(lambda x: x[0])\n",
        "    if debug: print('fillna complete')\n",
        "    return df"
      ],
      "execution_count": null,
      "outputs": []
    },
    {
      "cell_type": "markdown",
      "metadata": {
        "id": "Qa0CZiYauRqs"
      },
      "source": [
        "Next is to convert all categorical feature columns to multiple binnary columns using [one hot encoding](https://en.wikipedia.org/wiki/One-hot 'One-hot\n",
        "From Wikipedia, the free encyclopedia') technique. Each category in a given feature will be a new column."
      ]
    },
    {
      "cell_type": "code",
      "metadata": {
        "id": "FFRx45z9uRqs"
      },
      "source": [
        "OHE_COLS = ['Pclass', 'Sex','Cabin']\n",
        "def ohe_data(df, columns):\n",
        "    new_pd = pd.get_dummies(df)\n",
        "    return new_pd    "
      ],
      "execution_count": null,
      "outputs": []
    },
    {
      "cell_type": "code",
      "metadata": {
        "id": "2p7fR5xvuRqw"
      },
      "source": [
        "def prepare_data(df, cols, ohe_cols, debug=False):\n",
        "    df = df.copy()\n",
        "    df = remove_cols(df, cols,debug)\n",
        "    df = fill_na(df, debug)\n",
        "    df['Pclass'] = df['Pclass'].astype(str)\n",
        "    df = ohe_data(df, ohe_cols)\n",
        "    return df"
      ],
      "execution_count": null,
      "outputs": []
    },
    {
      "cell_type": "code",
      "metadata": {
        "id": "BvX-PAPZuRqz"
      },
      "source": [
        "df_test = pd.read_csv('test.csv')\n",
        "full = pd.concat([train,df_test])"
      ],
      "execution_count": null,
      "outputs": []
    },
    {
      "cell_type": "code",
      "metadata": {
        "id": "_zfViwRiuRq3",
        "outputId": "c4b31f6c-fc83-4d37-ffe2-86b350769912"
      },
      "source": [
        "full_clean = prepare_data(full, cols, OHE_COLS,True)"
      ],
      "execution_count": null,
      "outputs": [
        {
          "output_type": "stream",
          "text": [
            "columns_droped\n",
            "fillna complete: 1/4\n",
            "fillna complete: 2/4\n",
            "fillna complete: 3/4\n",
            "fillna complete\n"
          ],
          "name": "stdout"
        }
      ]
    },
    {
      "cell_type": "code",
      "metadata": {
        "id": "DInMy1X6uRq7"
      },
      "source": [
        "train_clean = full_clean.iloc[:len(train)].copy()\n",
        "train_clean1 = train_clean.copy()\n",
        "test_clean = full_clean.iloc[-len(test):].copy()"
      ],
      "execution_count": null,
      "outputs": []
    },
    {
      "cell_type": "code",
      "metadata": {
        "id": "JEppv5JsuRq_"
      },
      "source": [
        "y = train_clean['Survived']"
      ],
      "execution_count": null,
      "outputs": []
    },
    {
      "cell_type": "code",
      "metadata": {
        "id": "IN-VgkUsuRrB"
      },
      "source": [
        "train_clean.drop(columns='Survived', inplace=True)"
      ],
      "execution_count": null,
      "outputs": []
    },
    {
      "cell_type": "markdown",
      "metadata": {
        "id": "jQwhrTxTuRrF"
      },
      "source": [
        "With the data cleaned we can train the classifier. First we need a validation set to check the performance of the classifier with data not used in training"
      ]
    },
    {
      "cell_type": "code",
      "metadata": {
        "id": "7kaUeO56uRrG"
      },
      "source": [
        "x_train, x_val, y_train, y_val = train_test_split(train_clean,y, test_size=0.2, random_state=42)"
      ],
      "execution_count": null,
      "outputs": []
    },
    {
      "cell_type": "code",
      "metadata": {
        "id": "G4E98XqNuRrJ"
      },
      "source": [
        "clf = GradientBoostingClassifier(n_estimators=100, learning_rate=0.1, max_depth=4, random_state=42)"
      ],
      "execution_count": null,
      "outputs": []
    },
    {
      "cell_type": "code",
      "metadata": {
        "id": "Fi3gs0rNuRrN",
        "outputId": "6fb19b4b-541f-4d00-c55c-4ba0bb01796c"
      },
      "source": [
        "clf.fit(x_train,y_train)"
      ],
      "execution_count": null,
      "outputs": [
        {
          "output_type": "execute_result",
          "data": {
            "text/plain": [
              "GradientBoostingClassifier(max_depth=4, random_state=42)"
            ]
          },
          "metadata": {
            "tags": []
          },
          "execution_count": 23
        }
      ]
    },
    {
      "cell_type": "code",
      "metadata": {
        "id": "liBaUwp3uRrQ",
        "outputId": "7a63e658-3d1a-4495-f822-7661819e26c4"
      },
      "source": [
        "clf.score(x_val,y_val)"
      ],
      "execution_count": null,
      "outputs": [
        {
          "output_type": "execute_result",
          "data": {
            "text/plain": [
              "0.8268156424581006"
            ]
          },
          "metadata": {
            "tags": []
          },
          "execution_count": 24
        }
      ]
    },
    {
      "cell_type": "code",
      "metadata": {
        "id": "Uv6tgnSduRrU",
        "outputId": "6a3084be-e3ad-4042-dda0-27536c3a7810"
      },
      "source": [
        "clf.feature_importances_"
      ],
      "execution_count": null,
      "outputs": [
        {
          "output_type": "execute_result",
          "data": {
            "text/plain": [
              "array([0.196895  , 0.03701054, 0.00821784, 0.07522325, 0.00334779,\n",
              "       0.00432062, 0.00666312, 0.12445947, 0.27777409, 0.15556888,\n",
              "       0.00767302, 0.00312347, 0.00811825, 0.00690645, 0.01019694,\n",
              "       0.00303809, 0.00425221, 0.03661539, 0.00028137, 0.01080579,\n",
              "       0.00369918, 0.01580923])"
            ]
          },
          "metadata": {
            "tags": []
          },
          "execution_count": 25
        }
      ]
    },
    {
      "cell_type": "code",
      "metadata": {
        "id": "cY7a0obxuRrX",
        "outputId": "edc69421-a1f5-44a4-9aa3-b234a14df468"
      },
      "source": [
        "chart=sns.barplot(x=train_clean.columns, y=clf.feature_importances_,);\n",
        "chart.set_xticklabels(train_clean.columns,rotation=90);"
      ],
      "execution_count": null,
      "outputs": [
        {
          "output_type": "display_data",
          "data": {
            "image/png": "[encoded data removed]",
            "text/plain": [
              "<Figure size 432x288 with 1 Axes>"
            ]
          },
          "metadata": {
            "tags": []
          }
        }
      ]
    },
    {
      "cell_type": "code",
      "metadata": {
        "id": "_KW2fSShuRrb"
      },
      "source": [
        "submission = pd.read_csv('gender_submission.csv')"
      ],
      "execution_count": null,
      "outputs": []
    },
    {
      "cell_type": "code",
      "metadata": {
        "id": "lgvE3-vwuRrd"
      },
      "source": [
        "test_clean.drop(columns='Survived', inplace=True)"
      ],
      "execution_count": null,
      "outputs": []
    },
    {
      "cell_type": "code",
      "metadata": {
        "id": "0Fk5r48auRrg"
      },
      "source": [
        "test_clean['Family']=(test_clean['SibSp']+test_clean['Parch']).astype(int)"
      ],
      "execution_count": null,
      "outputs": []
    },
    {
      "cell_type": "code",
      "metadata": {
        "id": "DH-baiqvuRrj"
      },
      "source": [
        "y_sub = clf.predict(test_clean)"
      ],
      "execution_count": null,
      "outputs": []
    },
    {
      "cell_type": "code",
      "metadata": {
        "id": "4_k8qNzauRrl"
      },
      "source": [
        "submission['Survived']=y_sub.astype(int)"
      ],
      "execution_count": null,
      "outputs": []
    },
    {
      "cell_type": "code",
      "metadata": {
        "id": "wqxz_OfCuRro",
        "outputId": "581dd632-debb-4b17-aa3f-1e2649a1f175"
      },
      "source": [
        "submission"
      ],
      "execution_count": null,
      "outputs": [
        {
          "output_type": "execute_result",
          "data": {
            "text/html": [
              "<div>\n",
              "<style scoped>\n",
              "    .dataframe tbody tr th:only-of-type {\n",
              "        vertical-align: middle;\n",
              "    }\n",
              "\n",
              "    .dataframe tbody tr th {\n",
              "        vertical-align: top;\n",
              "    }\n",
              "\n",
              "    .dataframe thead th {\n",
              "        text-align: right;\n",
              "    }\n",
              "</style>\n",
              "<table border=\"1\" class=\"dataframe\">\n",
              "  <thead>\n",
              "    <tr style=\"text-align: right;\">\n",
              "      <th></th>\n",
              "      <th>PassengerId</th>\n",
              "      <th>Survived</th>\n",
              "    </tr>\n",
              "  </thead>\n",
              "  <tbody>\n",
              "    <tr>\n",
              "      <th>0</th>\n",
              "      <td>892</td>\n",
              "      <td>0</td>\n",
              "    </tr>\n",
              "    <tr>\n",
              "      <th>1</th>\n",
              "      <td>893</td>\n",
              "      <td>0</td>\n",
              "    </tr>\n",
              "    <tr>\n",
              "      <th>2</th>\n",
              "      <td>894</td>\n",
              "      <td>0</td>\n",
              "    </tr>\n",
              "    <tr>\n",
              "      <th>3</th>\n",
              "      <td>895</td>\n",
              "      <td>0</td>\n",
              "    </tr>\n",
              "    <tr>\n",
              "      <th>4</th>\n",
              "      <td>896</td>\n",
              "      <td>0</td>\n",
              "    </tr>\n",
              "    <tr>\n",
              "      <th>...</th>\n",
              "      <td>...</td>\n",
              "      <td>...</td>\n",
              "    </tr>\n",
              "    <tr>\n",
              "      <th>413</th>\n",
              "      <td>1305</td>\n",
              "      <td>0</td>\n",
              "    </tr>\n",
              "    <tr>\n",
              "      <th>414</th>\n",
              "      <td>1306</td>\n",
              "      <td>1</td>\n",
              "    </tr>\n",
              "    <tr>\n",
              "      <th>415</th>\n",
              "      <td>1307</td>\n",
              "      <td>0</td>\n",
              "    </tr>\n",
              "    <tr>\n",
              "      <th>416</th>\n",
              "      <td>1308</td>\n",
              "      <td>0</td>\n",
              "    </tr>\n",
              "    <tr>\n",
              "      <th>417</th>\n",
              "      <td>1309</td>\n",
              "      <td>0</td>\n",
              "    </tr>\n",
              "  </tbody>\n",
              "</table>\n",
              "<p>418 rows × 2 columns</p>\n",
              "</div>"
            ],
            "text/plain": [
              "     PassengerId  Survived\n",
              "0            892         0\n",
              "1            893         0\n",
              "2            894         0\n",
              "3            895         0\n",
              "4            896         0\n",
              "..           ...       ...\n",
              "413         1305         0\n",
              "414         1306         1\n",
              "415         1307         0\n",
              "416         1308         0\n",
              "417         1309         0\n",
              "\n",
              "[418 rows x 2 columns]"
            ]
          },
          "metadata": {
            "tags": []
          },
          "execution_count": 32
        }
      ]
    },
    {
      "cell_type": "code",
      "metadata": {
        "id": "TjbHj_A3uRrr"
      },
      "source": [
        "submission.to_csv('sub.csv',index=False)"
      ],
      "execution_count": null,
      "outputs": []
    },
    {
      "cell_type": "code",
      "metadata": {
        "id": "wc4EaEVFuRrx"
      },
      "source": [
        "#!kaggle competitions submit titanic -f sub.csv -m \"first submision\""
      ],
      "execution_count": null,
      "outputs": []
    },
    {
      "cell_type": "markdown",
      "metadata": {
        "id": "0KaQpgUyuRr1"
      },
      "source": [
        "Let's try a more sophisticated method using Fast.ai library"
      ]
    },
    {
      "cell_type": "code",
      "metadata": {
        "id": "R-2ZUqj9uRr2"
      },
      "source": [
        "path = Path('/home/jupyter/kaggle/titanic/')\n",
        "train = pd.read_csv(path/'train.csv')\n",
        "test = pd.read_csv(path/'test.csv')"
      ],
      "execution_count": null,
      "outputs": []
    },
    {
      "cell_type": "code",
      "metadata": {
        "id": "2NqcRaTxuRr3"
      },
      "source": [
        "train.drop(columns=['PassengerId','Ticket','Name'],inplace = True)\n",
        "test.drop(columns=['PassengerId','Ticket','Name'],inplace = True)\n"
      ],
      "execution_count": null,
      "outputs": []
    },
    {
      "cell_type": "code",
      "metadata": {
        "id": "BfXtC3c6uRr5"
      },
      "source": [
        "train['Cabin'] = train['Cabin'].fillna(value='Missing')\n",
        "test['Cabin'] = train['Cabin'].fillna(value='Missing')"
      ],
      "execution_count": null,
      "outputs": []
    },
    {
      "cell_type": "code",
      "metadata": {
        "id": "UyTqGo3YuRr8"
      },
      "source": [
        "train['Cabin'] = train['Cabin'].apply(lambda x:x[0])\n",
        "test['Cabin'] = train['Cabin'].apply(lambda x:x[0])\n"
      ],
      "execution_count": null,
      "outputs": []
    },
    {
      "cell_type": "code",
      "metadata": {
        "id": "CT6vhdsbuRr-",
        "outputId": "a5edbe33-3a37-4716-dba8-4c62eceff100"
      },
      "source": [
        "train['Cabin']"
      ],
      "execution_count": null,
      "outputs": [
        {
          "output_type": "execute_result",
          "data": {
            "text/plain": [
              "0      M\n",
              "1      C\n",
              "2      M\n",
              "3      C\n",
              "4      M\n",
              "      ..\n",
              "886    M\n",
              "887    B\n",
              "888    M\n",
              "889    C\n",
              "890    M\n",
              "Name: Cabin, Length: 891, dtype: object"
            ]
          },
          "metadata": {
            "tags": []
          },
          "execution_count": 39
        }
      ]
    },
    {
      "cell_type": "code",
      "metadata": {
        "id": "lPjWIvnYuRsA"
      },
      "source": [
        "y_names = 'Survived'\n",
        "cat_names = ['Pclass','Sex','Cabin', 'Embarked']\n",
        "cont_names = ['Age', 'SibSp','Parch',]\n",
        "procs = [ Categorify, FillMissing, Normalize]\n",
        "splits = RandomSplitter(valid_pct=0.2)(range_of(train_clean1))"
      ],
      "execution_count": null,
      "outputs": []
    },
    {
      "cell_type": "code",
      "metadata": {
        "id": "xLHks5gEuRsC"
      },
      "source": [
        "to = TabularPandas(df=train, \n",
        "                   cat_names=cat_names, \n",
        "                   cont_names=cont_names, \n",
        "                   procs=procs,\n",
        "                   y_names=y_names, \n",
        "                   splits=splits,\n",
        "                   y_block= CategoryBlock,)"
      ],
      "execution_count": null,
      "outputs": []
    },
    {
      "cell_type": "code",
      "metadata": {
        "id": "FMA4_hfEuRsF"
      },
      "source": [
        "dls = to.dataloaders(bs=128)"
      ],
      "execution_count": null,
      "outputs": []
    },
    {
      "cell_type": "code",
      "metadata": {
        "id": "xmXjC9aAuRsH",
        "outputId": "53d0f87f-33db-416c-bfa0-ffc98ab9bd6e"
      },
      "source": [
        "dls.show_batch()"
      ],
      "execution_count": null,
      "outputs": [
        {
          "output_type": "display_data",
          "data": {
            "text/html": [
              "<table border=\"1\" class=\"dataframe\">\n",
              "  <thead>\n",
              "    <tr style=\"text-align: right;\">\n",
              "      <th></th>\n",
              "      <th>Pclass</th>\n",
              "      <th>Sex</th>\n",
              "      <th>Cabin</th>\n",
              "      <th>Embarked</th>\n",
              "      <th>Age_na</th>\n",
              "      <th>Age</th>\n",
              "      <th>SibSp</th>\n",
              "      <th>Parch</th>\n",
              "      <th>Survived</th>\n",
              "    </tr>\n",
              "  </thead>\n",
              "  <tbody>\n",
              "    <tr>\n",
              "      <th>0</th>\n",
              "      <td>1</td>\n",
              "      <td>female</td>\n",
              "      <td>D</td>\n",
              "      <td>C</td>\n",
              "      <td>False</td>\n",
              "      <td>48.999999</td>\n",
              "      <td>1.000000e+00</td>\n",
              "      <td>3.638987e-09</td>\n",
              "      <td>1</td>\n",
              "    </tr>\n",
              "    <tr>\n",
              "      <th>1</th>\n",
              "      <td>1</td>\n",
              "      <td>female</td>\n",
              "      <td>D</td>\n",
              "      <td>S</td>\n",
              "      <td>False</td>\n",
              "      <td>19.000000</td>\n",
              "      <td>-6.569921e-09</td>\n",
              "      <td>2.000000e+00</td>\n",
              "      <td>1</td>\n",
              "    </tr>\n",
              "    <tr>\n",
              "      <th>2</th>\n",
              "      <td>2</td>\n",
              "      <td>male</td>\n",
              "      <td>M</td>\n",
              "      <td>S</td>\n",
              "      <td>False</td>\n",
              "      <td>27.000000</td>\n",
              "      <td>-6.569921e-09</td>\n",
              "      <td>3.638987e-09</td>\n",
              "      <td>0</td>\n",
              "    </tr>\n",
              "    <tr>\n",
              "      <th>3</th>\n",
              "      <td>3</td>\n",
              "      <td>male</td>\n",
              "      <td>M</td>\n",
              "      <td>S</td>\n",
              "      <td>False</td>\n",
              "      <td>16.000000</td>\n",
              "      <td>2.000000e+00</td>\n",
              "      <td>3.638987e-09</td>\n",
              "      <td>0</td>\n",
              "    </tr>\n",
              "    <tr>\n",
              "      <th>4</th>\n",
              "      <td>3</td>\n",
              "      <td>male</td>\n",
              "      <td>M</td>\n",
              "      <td>S</td>\n",
              "      <td>False</td>\n",
              "      <td>29.000000</td>\n",
              "      <td>-6.569921e-09</td>\n",
              "      <td>3.638987e-09</td>\n",
              "      <td>0</td>\n",
              "    </tr>\n",
              "    <tr>\n",
              "      <th>5</th>\n",
              "      <td>2</td>\n",
              "      <td>female</td>\n",
              "      <td>M</td>\n",
              "      <td>S</td>\n",
              "      <td>False</td>\n",
              "      <td>25.000000</td>\n",
              "      <td>-6.569921e-09</td>\n",
              "      <td>1.000000e+00</td>\n",
              "      <td>1</td>\n",
              "    </tr>\n",
              "    <tr>\n",
              "      <th>6</th>\n",
              "      <td>3</td>\n",
              "      <td>female</td>\n",
              "      <td>M</td>\n",
              "      <td>S</td>\n",
              "      <td>False</td>\n",
              "      <td>30.000000</td>\n",
              "      <td>1.000000e+00</td>\n",
              "      <td>1.000000e+00</td>\n",
              "      <td>0</td>\n",
              "    </tr>\n",
              "    <tr>\n",
              "      <th>7</th>\n",
              "      <td>3</td>\n",
              "      <td>male</td>\n",
              "      <td>M</td>\n",
              "      <td>S</td>\n",
              "      <td>False</td>\n",
              "      <td>9.000000</td>\n",
              "      <td>5.000000e+00</td>\n",
              "      <td>2.000000e+00</td>\n",
              "      <td>0</td>\n",
              "    </tr>\n",
              "    <tr>\n",
              "      <th>8</th>\n",
              "      <td>1</td>\n",
              "      <td>female</td>\n",
              "      <td>B</td>\n",
              "      <td>#na#</td>\n",
              "      <td>False</td>\n",
              "      <td>38.000000</td>\n",
              "      <td>-6.569921e-09</td>\n",
              "      <td>3.638987e-09</td>\n",
              "      <td>1</td>\n",
              "    </tr>\n",
              "    <tr>\n",
              "      <th>9</th>\n",
              "      <td>2</td>\n",
              "      <td>male</td>\n",
              "      <td>M</td>\n",
              "      <td>S</td>\n",
              "      <td>False</td>\n",
              "      <td>23.000000</td>\n",
              "      <td>-6.569921e-09</td>\n",
              "      <td>3.638987e-09</td>\n",
              "      <td>0</td>\n",
              "    </tr>\n",
              "  </tbody>\n",
              "</table>"
            ],
            "text/plain": [
              "<IPython.core.display.HTML object>"
            ]
          },
          "metadata": {
            "tags": []
          }
        }
      ]
    },
    {
      "cell_type": "code",
      "metadata": {
        "id": "bF9kOxiRuRsL"
      },
      "source": [
        "learn = tabular_learner(dls, metrics=[ accuracy],layers=[50,25])"
      ],
      "execution_count": null,
      "outputs": []
    },
    {
      "cell_type": "code",
      "metadata": {
        "id": "reIwLH3muRsM",
        "outputId": "a72d9169-c7c1-459a-a8af-081db2c85830"
      },
      "source": [
        "learn.model"
      ],
      "execution_count": null,
      "outputs": [
        {
          "output_type": "execute_result",
          "data": {
            "text/plain": [
              "TabularModel(\n",
              "  (embeds): ModuleList(\n",
              "    (0): Embedding(4, 3)\n",
              "    (1): Embedding(3, 3)\n",
              "    (2): Embedding(10, 6)\n",
              "    (3): Embedding(4, 3)\n",
              "    (4): Embedding(3, 3)\n",
              "  )\n",
              "  (emb_drop): Dropout(p=0.0, inplace=False)\n",
              "  (bn_cont): BatchNorm1d(3, eps=1e-05, momentum=0.1, affine=True, track_running_stats=True)\n",
              "  (layers): Sequential(\n",
              "    (0): LinBnDrop(\n",
              "      (0): BatchNorm1d(21, eps=1e-05, momentum=0.1, affine=True, track_running_stats=True)\n",
              "      (1): Linear(in_features=21, out_features=50, bias=False)\n",
              "      (2): ReLU(inplace=True)\n",
              "    )\n",
              "    (1): LinBnDrop(\n",
              "      (0): BatchNorm1d(50, eps=1e-05, momentum=0.1, affine=True, track_running_stats=True)\n",
              "      (1): Linear(in_features=50, out_features=25, bias=False)\n",
              "      (2): ReLU(inplace=True)\n",
              "    )\n",
              "    (2): LinBnDrop(\n",
              "      (0): Linear(in_features=25, out_features=2, bias=True)\n",
              "    )\n",
              "  )\n",
              ")"
            ]
          },
          "metadata": {
            "tags": []
          },
          "execution_count": 172
        }
      ]
    },
    {
      "cell_type": "code",
      "metadata": {
        "id": "HTpUx0VhuRsP",
        "outputId": "b3265d17-a69f-4e52-8901-741a49721294"
      },
      "source": [
        "learn.lr_find()"
      ],
      "execution_count": null,
      "outputs": [
        {
          "output_type": "display_data",
          "data": {
            "text/html": [
              ""
            ],
            "text/plain": [
              "<IPython.core.display.HTML object>"
            ]
          },
          "metadata": {
            "tags": []
          }
        },
        {
          "output_type": "execute_result",
          "data": {
            "text/plain": [
              "SuggestedLRs(lr_min=0.05248074531555176, lr_steep=0.015848932787775993)"
            ]
          },
          "metadata": {
            "tags": []
          },
          "execution_count": 173
        },
        {
          "output_type": "display_data",
          "data": {
            "image/png": "[encoded data removed]",
            "text/plain": [
              "<Figure size 432x288 with 1 Axes>"
            ]
          },
          "metadata": {
            "tags": []
          }
        }
      ]
    },
    {
      "cell_type": "code",
      "metadata": {
        "id": "eAamdAKruRsS",
        "outputId": "4eaae3ef-8b5c-4f96-f661-2f2d63f69f78"
      },
      "source": [
        "learn.save('empty')"
      ],
      "execution_count": null,
      "outputs": [
        {
          "output_type": "execute_result",
          "data": {
            "text/plain": [
              "Path('models/empty.pth')"
            ]
          },
          "metadata": {
            "tags": []
          },
          "execution_count": 174
        }
      ]
    },
    {
      "cell_type": "code",
      "metadata": {
        "id": "Ptz08vbjuRsV"
      },
      "source": [
        "learn = learn.load('empty')"
      ],
      "execution_count": null,
      "outputs": []
    },
    {
      "cell_type": "code",
      "metadata": {
        "id": "7VHlWpq1uRsX",
        "outputId": "bd82167f-2b51-4ddf-885b-2d51a4f81896"
      },
      "source": [
        "learn.fit_one_cycle(16,0.005)"
      ],
      "execution_count": null,
      "outputs": [
        {
          "output_type": "display_data",
          "data": {
            "text/html": [
              "<table border=\"1\" class=\"dataframe\">\n",
              "  <thead>\n",
              "    <tr style=\"text-align: left;\">\n",
              "      <th>epoch</th>\n",
              "      <th>train_loss</th>\n",
              "      <th>valid_loss</th>\n",
              "      <th>accuracy</th>\n",
              "      <th>time</th>\n",
              "    </tr>\n",
              "  </thead>\n",
              "  <tbody>\n",
              "    <tr>\n",
              "      <td>0</td>\n",
              "      <td>0.728459</td>\n",
              "      <td>0.718059</td>\n",
              "      <td>0.421348</td>\n",
              "      <td>00:00</td>\n",
              "    </tr>\n",
              "    <tr>\n",
              "      <td>1</td>\n",
              "      <td>0.690266</td>\n",
              "      <td>0.711980</td>\n",
              "      <td>0.421348</td>\n",
              "      <td>00:00</td>\n",
              "    </tr>\n",
              "    <tr>\n",
              "      <td>2</td>\n",
              "      <td>0.637795</td>\n",
              "      <td>0.696240</td>\n",
              "      <td>0.443820</td>\n",
              "      <td>00:00</td>\n",
              "    </tr>\n",
              "    <tr>\n",
              "      <td>3</td>\n",
              "      <td>0.589505</td>\n",
              "      <td>0.658333</td>\n",
              "      <td>0.719101</td>\n",
              "      <td>00:00</td>\n",
              "    </tr>\n",
              "    <tr>\n",
              "      <td>4</td>\n",
              "      <td>0.554041</td>\n",
              "      <td>0.625094</td>\n",
              "      <td>0.769663</td>\n",
              "      <td>00:00</td>\n",
              "    </tr>\n",
              "    <tr>\n",
              "      <td>5</td>\n",
              "      <td>0.518881</td>\n",
              "      <td>0.606026</td>\n",
              "      <td>0.724719</td>\n",
              "      <td>00:00</td>\n",
              "    </tr>\n",
              "    <tr>\n",
              "      <td>6</td>\n",
              "      <td>0.492990</td>\n",
              "      <td>0.570334</td>\n",
              "      <td>0.775281</td>\n",
              "      <td>00:00</td>\n",
              "    </tr>\n",
              "    <tr>\n",
              "      <td>7</td>\n",
              "      <td>0.475062</td>\n",
              "      <td>0.546480</td>\n",
              "      <td>0.775281</td>\n",
              "      <td>00:00</td>\n",
              "    </tr>\n",
              "    <tr>\n",
              "      <td>8</td>\n",
              "      <td>0.459507</td>\n",
              "      <td>0.517868</td>\n",
              "      <td>0.792135</td>\n",
              "      <td>00:00</td>\n",
              "    </tr>\n",
              "    <tr>\n",
              "      <td>9</td>\n",
              "      <td>0.445730</td>\n",
              "      <td>0.492939</td>\n",
              "      <td>0.820225</td>\n",
              "      <td>00:00</td>\n",
              "    </tr>\n",
              "    <tr>\n",
              "      <td>10</td>\n",
              "      <td>0.435037</td>\n",
              "      <td>0.471913</td>\n",
              "      <td>0.825843</td>\n",
              "      <td>00:00</td>\n",
              "    </tr>\n",
              "    <tr>\n",
              "      <td>11</td>\n",
              "      <td>0.425183</td>\n",
              "      <td>0.455737</td>\n",
              "      <td>0.825843</td>\n",
              "      <td>00:00</td>\n",
              "    </tr>\n",
              "    <tr>\n",
              "      <td>12</td>\n",
              "      <td>0.418521</td>\n",
              "      <td>0.445701</td>\n",
              "      <td>0.820225</td>\n",
              "      <td>00:00</td>\n",
              "    </tr>\n",
              "    <tr>\n",
              "      <td>13</td>\n",
              "      <td>0.410660</td>\n",
              "      <td>0.442589</td>\n",
              "      <td>0.820225</td>\n",
              "      <td>00:00</td>\n",
              "    </tr>\n",
              "    <tr>\n",
              "      <td>14</td>\n",
              "      <td>0.404275</td>\n",
              "      <td>0.444416</td>\n",
              "      <td>0.820225</td>\n",
              "      <td>00:00</td>\n",
              "    </tr>\n",
              "    <tr>\n",
              "      <td>15</td>\n",
              "      <td>0.400861</td>\n",
              "      <td>0.449209</td>\n",
              "      <td>0.820225</td>\n",
              "      <td>00:00</td>\n",
              "    </tr>\n",
              "  </tbody>\n",
              "</table>"
            ],
            "text/plain": [
              "<IPython.core.display.HTML object>"
            ]
          },
          "metadata": {
            "tags": []
          }
        }
      ]
    },
    {
      "cell_type": "code",
      "metadata": {
        "id": "RsviVIA3uRsa",
        "outputId": "dab9c948-f1a2-4d2e-f39a-d7b83f229337"
      },
      "source": [
        "learn.recorder.plot_loss()"
      ],
      "execution_count": null,
      "outputs": [
        {
          "output_type": "display_data",
          "data": {
            "image/png": "[encoded data removed]",
            "text/plain": [
              "<Figure size 432x288 with 1 Axes>"
            ]
          },
          "metadata": {
            "tags": []
          }
        }
      ]
    },
    {
      "cell_type": "code",
      "metadata": {
        "id": "FG8DAZaQuRsd",
        "outputId": "2d4ae9ae-50b9-4d45-93c9-fb551085034b"
      },
      "source": [
        "learn.save('16_epoch')"
      ],
      "execution_count": null,
      "outputs": [
        {
          "output_type": "execute_result",
          "data": {
            "text/plain": [
              "Path('models/16_epoch.pth')"
            ]
          },
          "metadata": {
            "tags": []
          },
          "execution_count": 221
        }
      ]
    },
    {
      "cell_type": "code",
      "metadata": {
        "id": "fO4VOS8ouRsr",
        "outputId": "42b09eec-f810-4459-f4c0-ccd5b3b9174e"
      },
      "source": [
        "learn.show_results()"
      ],
      "execution_count": null,
      "outputs": [
        {
          "output_type": "display_data",
          "data": {
            "text/html": [
              ""
            ],
            "text/plain": [
              "<IPython.core.display.HTML object>"
            ]
          },
          "metadata": {
            "tags": []
          }
        },
        {
          "output_type": "display_data",
          "data": {
            "text/html": [
              "<table border=\"1\" class=\"dataframe\">\n",
              "  <thead>\n",
              "    <tr style=\"text-align: right;\">\n",
              "      <th></th>\n",
              "      <th>Pclass</th>\n",
              "      <th>Sex</th>\n",
              "      <th>Cabin</th>\n",
              "      <th>Embarked</th>\n",
              "      <th>Age_na</th>\n",
              "      <th>Age</th>\n",
              "      <th>SibSp</th>\n",
              "      <th>Parch</th>\n",
              "      <th>Survived</th>\n",
              "      <th>Survived_pred</th>\n",
              "    </tr>\n",
              "  </thead>\n",
              "  <tbody>\n",
              "    <tr>\n",
              "      <th>0</th>\n",
              "      <td>1.0</td>\n",
              "      <td>1.0</td>\n",
              "      <td>3.0</td>\n",
              "      <td>3.0</td>\n",
              "      <td>1.0</td>\n",
              "      <td>0.838125</td>\n",
              "      <td>-0.468802</td>\n",
              "      <td>-0.471482</td>\n",
              "      <td>1.0</td>\n",
              "      <td>1.0</td>\n",
              "    </tr>\n",
              "    <tr>\n",
              "      <th>1</th>\n",
              "      <td>1.0</td>\n",
              "      <td>2.0</td>\n",
              "      <td>3.0</td>\n",
              "      <td>1.0</td>\n",
              "      <td>1.0</td>\n",
              "      <td>1.532691</td>\n",
              "      <td>0.427327</td>\n",
              "      <td>0.737750</td>\n",
              "      <td>0.0</td>\n",
              "      <td>0.0</td>\n",
              "    </tr>\n",
              "    <tr>\n",
              "      <th>2</th>\n",
              "      <td>3.0</td>\n",
              "      <td>1.0</td>\n",
              "      <td>8.0</td>\n",
              "      <td>3.0</td>\n",
              "      <td>1.0</td>\n",
              "      <td>-0.319484</td>\n",
              "      <td>-0.468802</td>\n",
              "      <td>-0.471482</td>\n",
              "      <td>0.0</td>\n",
              "      <td>1.0</td>\n",
              "    </tr>\n",
              "    <tr>\n",
              "      <th>3</th>\n",
              "      <td>1.0</td>\n",
              "      <td>2.0</td>\n",
              "      <td>2.0</td>\n",
              "      <td>1.0</td>\n",
              "      <td>1.0</td>\n",
              "      <td>2.767474</td>\n",
              "      <td>-0.468802</td>\n",
              "      <td>0.737750</td>\n",
              "      <td>0.0</td>\n",
              "      <td>0.0</td>\n",
              "    </tr>\n",
              "    <tr>\n",
              "      <th>4</th>\n",
              "      <td>1.0</td>\n",
              "      <td>1.0</td>\n",
              "      <td>2.0</td>\n",
              "      <td>0.0</td>\n",
              "      <td>1.0</td>\n",
              "      <td>2.535952</td>\n",
              "      <td>-0.468802</td>\n",
              "      <td>-0.471482</td>\n",
              "      <td>1.0</td>\n",
              "      <td>1.0</td>\n",
              "    </tr>\n",
              "    <tr>\n",
              "      <th>5</th>\n",
              "      <td>1.0</td>\n",
              "      <td>2.0</td>\n",
              "      <td>3.0</td>\n",
              "      <td>1.0</td>\n",
              "      <td>1.0</td>\n",
              "      <td>1.609865</td>\n",
              "      <td>0.427327</td>\n",
              "      <td>-0.471482</td>\n",
              "      <td>0.0</td>\n",
              "      <td>0.0</td>\n",
              "    </tr>\n",
              "    <tr>\n",
              "      <th>6</th>\n",
              "      <td>1.0</td>\n",
              "      <td>1.0</td>\n",
              "      <td>4.0</td>\n",
              "      <td>3.0</td>\n",
              "      <td>1.0</td>\n",
              "      <td>1.378343</td>\n",
              "      <td>0.427327</td>\n",
              "      <td>0.737750</td>\n",
              "      <td>1.0</td>\n",
              "      <td>1.0</td>\n",
              "    </tr>\n",
              "    <tr>\n",
              "      <th>7</th>\n",
              "      <td>3.0</td>\n",
              "      <td>2.0</td>\n",
              "      <td>8.0</td>\n",
              "      <td>3.0</td>\n",
              "      <td>1.0</td>\n",
              "      <td>-0.782528</td>\n",
              "      <td>-0.468802</td>\n",
              "      <td>-0.471482</td>\n",
              "      <td>0.0</td>\n",
              "      <td>0.0</td>\n",
              "    </tr>\n",
              "    <tr>\n",
              "      <th>8</th>\n",
              "      <td>2.0</td>\n",
              "      <td>2.0</td>\n",
              "      <td>8.0</td>\n",
              "      <td>3.0</td>\n",
              "      <td>1.0</td>\n",
              "      <td>2.381604</td>\n",
              "      <td>0.427327</td>\n",
              "      <td>0.737750</td>\n",
              "      <td>0.0</td>\n",
              "      <td>0.0</td>\n",
              "    </tr>\n",
              "  </tbody>\n",
              "</table>"
            ],
            "text/plain": [
              "<IPython.core.display.HTML object>"
            ]
          },
          "metadata": {
            "tags": []
          }
        }
      ]
    },
    {
      "cell_type": "code",
      "metadata": {
        "id": "glhDRzBouRst"
      },
      "source": [
        "dl_test=learn.dls.test_dl(test)"
      ],
      "execution_count": null,
      "outputs": []
    },
    {
      "cell_type": "code",
      "metadata": {
        "id": "1f9lfG_LuRsw",
        "outputId": "f9b1dd9c-0888-41d6-e8f7-b6deae1ffaf1"
      },
      "source": [
        "probs,_ =learn.get_preds(dl=dl_test)"
      ],
      "execution_count": null,
      "outputs": [
        {
          "output_type": "display_data",
          "data": {
            "text/html": [
              ""
            ],
            "text/plain": [
              "<IPython.core.display.HTML object>"
            ]
          },
          "metadata": {
            "tags": []
          }
        }
      ]
    },
    {
      "cell_type": "code",
      "metadata": {
        "id": "iAj7Vm56uRsy"
      },
      "source": [
        "y = np.argmax(probs,1)\n",
        "y = np.array(y)"
      ],
      "execution_count": null,
      "outputs": []
    },
    {
      "cell_type": "code",
      "metadata": {
        "id": "pC87BDYmuRs0"
      },
      "source": [
        "submission['Survived']=y.astype(int)"
      ],
      "execution_count": null,
      "outputs": []
    },
    {
      "cell_type": "code",
      "metadata": {
        "id": "zG3ex_FguRs2",
        "outputId": "314525e3-704b-4ea8-b52c-645dc40e439d"
      },
      "source": [
        "submission.to_csv('sub.csv',index=False)\n",
        "!kaggle competitions submit titanic -f sub.csv -m \"nn mid\""
      ],
      "execution_count": null,
      "outputs": [
        {
          "output_type": "stream",
          "text": [
            "100%|██████████████████████████████████████| 2.77k/2.77k [00:02<00:00, 1.07kB/s]\n",
            "Successfully submitted to Titanic: Machine Learning from Disaster"
          ],
          "name": "stdout"
        }
      ]
    },
    {
      "cell_type": "code",
      "metadata": {
        "id": "dr4HUyLPuRs4"
      },
      "source": [
        ""
      ],
      "execution_count": null,
      "outputs": []
    },
    {
      "cell_type": "code",
      "metadata": {
        "id": "qt27UWXluRs5",
        "outputId": "209e6d4d-51ab-40ac-cbed-48cb902cff53"
      },
      "source": [
        "learn.model"
      ],
      "execution_count": null,
      "outputs": [
        {
          "output_type": "execute_result",
          "data": {
            "text/plain": [
              "TabularModel(\n",
              "  (embeds): ModuleList(\n",
              "    (0): Embedding(4, 3)\n",
              "    (1): Embedding(3, 3)\n",
              "    (2): Embedding(10, 6)\n",
              "    (3): Embedding(4, 3)\n",
              "    (4): Embedding(3, 3)\n",
              "  )\n",
              "  (emb_drop): Dropout(p=0.0, inplace=False)\n",
              "  (bn_cont): BatchNorm1d(3, eps=1e-05, momentum=0.1, affine=True, track_running_stats=True)\n",
              "  (layers): Sequential(\n",
              "    (0): LinBnDrop(\n",
              "      (0): BatchNorm1d(21, eps=1e-05, momentum=0.1, affine=True, track_running_stats=True)\n",
              "      (1): Linear(in_features=21, out_features=50, bias=False)\n",
              "      (2): ReLU(inplace=True)\n",
              "    )\n",
              "    (1): LinBnDrop(\n",
              "      (0): BatchNorm1d(50, eps=1e-05, momentum=0.1, affine=True, track_running_stats=True)\n",
              "      (1): Linear(in_features=50, out_features=25, bias=False)\n",
              "      (2): ReLU(inplace=True)\n",
              "    )\n",
              "    (2): LinBnDrop(\n",
              "      (0): Linear(in_features=25, out_features=2, bias=True)\n",
              "    )\n",
              "  )\n",
              ")"
            ]
          },
          "metadata": {
            "tags": []
          },
          "execution_count": 228
        }
      ]
    },
    {
      "cell_type": "code",
      "metadata": {
        "id": "kCmOQY-XuRs7",
        "outputId": "c36c48ab-569e-41fe-da08-b258ecb8804f"
      },
      "source": [
        "learn.recorder.plot_sched()"
      ],
      "execution_count": null,
      "outputs": [
        {
          "output_type": "display_data",
          "data": {
            "image/png": "[encoded data removed]",
            "text/plain": [
              "<Figure size 864x288 with 2 Axes>"
            ]
          },
          "metadata": {
            "tags": []
          }
        }
      ]
    },
    {
      "cell_type": "code",
      "metadata": {
        "id": "wMbZt-yMuRs9"
      },
      "source": [
        ""
      ],
      "execution_count": null,
      "outputs": []
    }
  ]
}